{
 "cells": [
  {
   "cell_type": "markdown",
   "id": "2cef3c7e",
   "metadata": {},
   "source": [
    "Embedded Jupyter Notebook\n",
    "========================"
   ]
  },
  {
   "cell_type": "code",
   "execution_count": 2,
   "id": "f960b990",
   "metadata": {},
   "outputs": [
    {
     "name": "stdout",
     "output_type": "stream",
     "text": [
      "Hello world!\n"
     ]
    }
   ],
   "source": [
    "print(\"Hello world!\")"
   ]
  },
  {
   "cell_type": "markdown",
   "id": "71204e17",
   "metadata": {},
   "source": [
    "Now we will try something more sophisticated..."
   ]
  },
  {
   "cell_type": "code",
   "execution_count": 2,
   "id": "1e2e47ae",
   "metadata": {
    "scrolled": true
   },
   "outputs": [
    {
     "name": "stdout",
     "output_type": "stream",
     "text": [
      "x + y = 12\n"
     ]
    }
   ],
   "source": [
    "x = 3\n",
    "y = x + 6\n",
    "print(\"x + y = {}\".format(x+y))"
   ]
  }
 ],
 "metadata": {
  "kernelspec": {
   "display_name": "Python 3 (ipykernel)",
   "language": "python",
   "name": "python3"
  },
  "language_info": {
   "codemirror_mode": {
    "name": "ipython",
    "version": 3
   },
   "file_extension": ".py",
   "mimetype": "text/x-python",
   "name": "python",
   "nbconvert_exporter": "python",
   "pygments_lexer": "ipython3",
   "version": "3.10.5"
  }
 },
 "nbformat": 4,
 "nbformat_minor": 5
}
